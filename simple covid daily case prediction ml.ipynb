{
 "cells": [
  {
   "cell_type": "markdown",
   "metadata": {
    "id": "OrbpS2WCvLa4"
   },
   "source": [
    "**PREDIKSI PERKEMBANGAN DAILY CASE COVID TANGGAL 15 NOVEMBER 2021 - 14 DESEMBER 2021** <br>"
   ]
  },
  {
   "cell_type": "code",
   "execution_count": 1,
   "metadata": {
    "id": "gGlho69qv7jQ"
   },
   "outputs": [],
   "source": [
    "import pandas as pd\n",
    "import numpy as np\n",
    "import matplotlib.pyplot as plt\n",
    "import seaborn as sns\n",
    "import warnings\n",
    "warnings.filterwarnings('ignore')"
   ]
  },
  {
   "cell_type": "code",
   "execution_count": 2,
   "metadata": {
    "id": "d8lWvwSSwDRG"
   },
   "outputs": [
    {
     "name": "stdout",
     "output_type": "stream",
     "text": [
      "<class 'pandas.core.frame.DataFrame'>\n",
      "RangeIndex: 137 entries, 0 to 136\n",
      "Data columns (total 8 columns):\n",
      " #   Column           Non-Null Count  Dtype \n",
      "---  ------           --------------  ----- \n",
      " 0   Tanggal          137 non-null    object\n",
      " 1   Kasus_harian     137 non-null    int64 \n",
      " 2   Total_kasus      137 non-null    int64 \n",
      " 3   Kasus_aktif      137 non-null    int64 \n",
      " 4   Sembuh_baru      137 non-null    int64 \n",
      " 5   Sembuh           137 non-null    int64 \n",
      " 6   Meninggal_baru   137 non-null    int64 \n",
      " 7   Meninggal_Dunia  137 non-null    int64 \n",
      "dtypes: int64(7), object(1)\n",
      "memory usage: 8.7+ KB\n"
     ]
    }
   ],
   "source": [
    "df = pd.read_csv('covid_indonesia_2.csv')\n",
    "df.info()"
   ]
  },
  {
   "cell_type": "code",
   "execution_count": 3,
   "metadata": {},
   "outputs": [
    {
     "data": {
      "text/html": [
       "<div>\n",
       "<style scoped>\n",
       "    .dataframe tbody tr th:only-of-type {\n",
       "        vertical-align: middle;\n",
       "    }\n",
       "\n",
       "    .dataframe tbody tr th {\n",
       "        vertical-align: top;\n",
       "    }\n",
       "\n",
       "    .dataframe thead th {\n",
       "        text-align: right;\n",
       "    }\n",
       "</style>\n",
       "<table border=\"1\" class=\"dataframe\">\n",
       "  <thead>\n",
       "    <tr style=\"text-align: right;\">\n",
       "      <th></th>\n",
       "      <th>Kasus_harian</th>\n",
       "      <th>Total_kasus</th>\n",
       "      <th>Kasus_aktif</th>\n",
       "      <th>Sembuh_baru</th>\n",
       "      <th>Sembuh</th>\n",
       "      <th>Meninggal_baru</th>\n",
       "      <th>Meninggal_Dunia</th>\n",
       "    </tr>\n",
       "  </thead>\n",
       "  <tbody>\n",
       "    <tr>\n",
       "      <th>count</th>\n",
       "      <td>137.000000</td>\n",
       "      <td>1.370000e+02</td>\n",
       "      <td>137.000000</td>\n",
       "      <td>137.000000</td>\n",
       "      <td>1.370000e+02</td>\n",
       "      <td>137.000000</td>\n",
       "      <td>137.00000</td>\n",
       "    </tr>\n",
       "    <tr>\n",
       "      <th>mean</th>\n",
       "      <td>15128.343066</td>\n",
       "      <td>3.800636e+06</td>\n",
       "      <td>212836.240876</td>\n",
       "      <td>16188.065693</td>\n",
       "      <td>3.467221e+06</td>\n",
       "      <td>621.664234</td>\n",
       "      <td>120578.20438</td>\n",
       "    </tr>\n",
       "    <tr>\n",
       "      <th>std</th>\n",
       "      <td>16758.477055</td>\n",
       "      <td>6.121355e+05</td>\n",
       "      <td>201927.468029</td>\n",
       "      <td>15064.380154</td>\n",
       "      <td>7.427454e+05</td>\n",
       "      <td>614.988956</td>\n",
       "      <td>28539.47019</td>\n",
       "    </tr>\n",
       "    <tr>\n",
       "      <th>min</th>\n",
       "      <td>244.000000</td>\n",
       "      <td>2.203108e+06</td>\n",
       "      <td>9018.000000</td>\n",
       "      <td>451.000000</td>\n",
       "      <td>1.890287e+06</td>\n",
       "      <td>11.000000</td>\n",
       "      <td>58995.00000</td>\n",
       "    </tr>\n",
       "    <tr>\n",
       "      <th>25%</th>\n",
       "      <td>1053.000000</td>\n",
       "      <td>3.532567e+06</td>\n",
       "      <td>22541.000000</td>\n",
       "      <td>1946.000000</td>\n",
       "      <td>2.907920e+06</td>\n",
       "      <td>50.000000</td>\n",
       "      <td>100636.00000</td>\n",
       "    </tr>\n",
       "    <tr>\n",
       "      <th>50%</th>\n",
       "      <td>5436.000000</td>\n",
       "      <td>4.140634e+06</td>\n",
       "      <td>138630.000000</td>\n",
       "      <td>12474.000000</td>\n",
       "      <td>3.864848e+06</td>\n",
       "      <td>493.000000</td>\n",
       "      <td>137156.00000</td>\n",
       "    </tr>\n",
       "    <tr>\n",
       "      <th>75%</th>\n",
       "      <td>29745.000000</td>\n",
       "      <td>4.228552e+06</td>\n",
       "      <td>380797.000000</td>\n",
       "      <td>29794.000000</td>\n",
       "      <td>4.063295e+06</td>\n",
       "      <td>1128.000000</td>\n",
       "      <td>142716.00000</td>\n",
       "    </tr>\n",
       "    <tr>\n",
       "      <th>max</th>\n",
       "      <td>56757.000000</td>\n",
       "      <td>4.250855e+06</td>\n",
       "      <td>574135.000000</td>\n",
       "      <td>48832.000000</td>\n",
       "      <td>4.098178e+06</td>\n",
       "      <td>2069.000000</td>\n",
       "      <td>143659.00000</td>\n",
       "    </tr>\n",
       "  </tbody>\n",
       "</table>\n",
       "</div>"
      ],
      "text/plain": [
       "       Kasus_harian   Total_kasus    Kasus_aktif   Sembuh_baru        Sembuh  \\\n",
       "count    137.000000  1.370000e+02     137.000000    137.000000  1.370000e+02   \n",
       "mean   15128.343066  3.800636e+06  212836.240876  16188.065693  3.467221e+06   \n",
       "std    16758.477055  6.121355e+05  201927.468029  15064.380154  7.427454e+05   \n",
       "min      244.000000  2.203108e+06    9018.000000    451.000000  1.890287e+06   \n",
       "25%     1053.000000  3.532567e+06   22541.000000   1946.000000  2.907920e+06   \n",
       "50%     5436.000000  4.140634e+06  138630.000000  12474.000000  3.864848e+06   \n",
       "75%    29745.000000  4.228552e+06  380797.000000  29794.000000  4.063295e+06   \n",
       "max    56757.000000  4.250855e+06  574135.000000  48832.000000  4.098178e+06   \n",
       "\n",
       "       Meninggal_baru  Meninggal_Dunia  \n",
       "count      137.000000        137.00000  \n",
       "mean       621.664234     120578.20438  \n",
       "std        614.988956      28539.47019  \n",
       "min         11.000000      58995.00000  \n",
       "25%         50.000000     100636.00000  \n",
       "50%        493.000000     137156.00000  \n",
       "75%       1128.000000     142716.00000  \n",
       "max       2069.000000     143659.00000  "
      ]
     },
     "execution_count": 3,
     "metadata": {},
     "output_type": "execute_result"
    }
   ],
   "source": [
    "df.describe()"
   ]
  },
  {
   "cell_type": "markdown",
   "metadata": {},
   "source": [
    "Interpretasi Statistik Deskriptif :\n",
    "- Dapat dilihat bahwa tidak ada data null, semua kolom berjumlah 137 \n",
    "- Features yang ingin diprediksi yaitu Kasus_harian terlihat tidak terdistribusi normal, melainkan mengalami right skewness oleh sebab itu nanti kolom Kasus_harian ini akan diubah menjadi distribusi normal dengan menggunakan transformasi log"
   ]
  },
  {
   "cell_type": "code",
   "execution_count": 4,
   "metadata": {},
   "outputs": [
    {
     "data": {
      "image/png": "[encoded data removed]",
      "text/plain": [
       "<Figure size 864x288 with 2 Axes>"
      ]
     },
     "metadata": {
      "needs_background": "light"
     },
     "output_type": "display_data"
    }
   ],
   "source": [
    "fig,axs = plt.subplots(1,2, figsize=(12,4))\n",
    "sns.histplot(ax = axs[0],x=df['Kasus_harian'])\n",
    "axs[0].set_title('Distribusi Kasus Harian')\n",
    "sns.boxplot(ax = axs[1],x=df['Kasus_harian'])\n",
    "axs[1].set_title('Distribusi Kasus Harian')\n",
    "plt.show()"
   ]
  },
  {
   "cell_type": "markdown",
   "metadata": {},
   "source": [
    "Dapat dilihat juga dari kedua visualisasi diatas bahwa kolom Kasus_harian memiliki distribusi right skewness. Namun pada kolom tersebut tidak terdapat outlier."
   ]
  },
  {
   "cell_type": "code",
   "execution_count": 5,
   "metadata": {
    "id": "iA0kS8UNwi6r"
   },
   "outputs": [
    {
     "data": {
      "text/html": [
       "<div>\n",
       "<style scoped>\n",
       "    .dataframe tbody tr th:only-of-type {\n",
       "        vertical-align: middle;\n",
       "    }\n",
       "\n",
       "    .dataframe tbody tr th {\n",
       "        vertical-align: top;\n",
       "    }\n",
       "\n",
       "    .dataframe thead th {\n",
       "        text-align: right;\n",
       "    }\n",
       "</style>\n",
       "<table border=\"1\" class=\"dataframe\">\n",
       "  <thead>\n",
       "    <tr style=\"text-align: right;\">\n",
       "      <th></th>\n",
       "      <th>Tanggal</th>\n",
       "      <th>Kasus_harian</th>\n",
       "    </tr>\n",
       "  </thead>\n",
       "  <tbody>\n",
       "    <tr>\n",
       "      <th>0</th>\n",
       "      <td>2021-07-01</td>\n",
       "      <td>24836</td>\n",
       "    </tr>\n",
       "    <tr>\n",
       "      <th>1</th>\n",
       "      <td>2021-07-02</td>\n",
       "      <td>25830</td>\n",
       "    </tr>\n",
       "    <tr>\n",
       "      <th>2</th>\n",
       "      <td>2021-07-03</td>\n",
       "      <td>27913</td>\n",
       "    </tr>\n",
       "    <tr>\n",
       "      <th>3</th>\n",
       "      <td>2021-07-04</td>\n",
       "      <td>27233</td>\n",
       "    </tr>\n",
       "    <tr>\n",
       "      <th>4</th>\n",
       "      <td>2021-07-05</td>\n",
       "      <td>29745</td>\n",
       "    </tr>\n",
       "    <tr>\n",
       "      <th>...</th>\n",
       "      <td>...</td>\n",
       "      <td>...</td>\n",
       "    </tr>\n",
       "    <tr>\n",
       "      <th>132</th>\n",
       "      <td>2021-11-10</td>\n",
       "      <td>480</td>\n",
       "    </tr>\n",
       "    <tr>\n",
       "      <th>133</th>\n",
       "      <td>2021-11-11</td>\n",
       "      <td>435</td>\n",
       "    </tr>\n",
       "    <tr>\n",
       "      <th>134</th>\n",
       "      <td>2021-11-12</td>\n",
       "      <td>399</td>\n",
       "    </tr>\n",
       "    <tr>\n",
       "      <th>135</th>\n",
       "      <td>2021-11-13</td>\n",
       "      <td>359</td>\n",
       "    </tr>\n",
       "    <tr>\n",
       "      <th>136</th>\n",
       "      <td>2021-11-14</td>\n",
       "      <td>339</td>\n",
       "    </tr>\n",
       "  </tbody>\n",
       "</table>\n",
       "<p>137 rows × 2 columns</p>\n",
       "</div>"
      ],
      "text/plain": [
       "        Tanggal  Kasus_harian\n",
       "0    2021-07-01         24836\n",
       "1    2021-07-02         25830\n",
       "2    2021-07-03         27913\n",
       "3    2021-07-04         27233\n",
       "4    2021-07-05         29745\n",
       "..          ...           ...\n",
       "132  2021-11-10           480\n",
       "133  2021-11-11           435\n",
       "134  2021-11-12           399\n",
       "135  2021-11-13           359\n",
       "136  2021-11-14           339\n",
       "\n",
       "[137 rows x 2 columns]"
      ]
     },
     "execution_count": 5,
     "metadata": {},
     "output_type": "execute_result"
    }
   ],
   "source": [
    "# Untuk membuat suatu model prediksi kasus harian maka kolom yg dibutuhkan hanyalah kolom Tanggal & Kasus_harian\n",
    "df_use = df[['Tanggal','Kasus_harian']]\n",
    "df_use"
   ]
  },
  {
   "cell_type": "code",
   "execution_count": 6,
   "metadata": {},
   "outputs": [],
   "source": [
    "# lakukan transformasi terhadap kolom Kasus_harian dengan menggunakan np.log\n",
    "df_use['Cases_norm'] = np.log(df_use['Kasus_harian'])"
   ]
  },
  {
   "cell_type": "code",
   "execution_count": 7,
   "metadata": {
    "id": "q81iIGw_zLt7"
   },
   "outputs": [],
   "source": [
    "'''Dapat kita lihat bahwa kolom Tanggal memiliki format string, sedangkan dalam menggunakan alogirtma regresi kita harus\n",
    "memiliki features berupa angka. Oleh sebab itu dikarenakan data tanggal berurutan (setiap hari selalu ada kasus baru), maka\n",
    "untuk memudahkan kita buat tanggal pertama dari dataset yang kita miliki yaitu (1 Juli 2021) sebagai angka 0.'''\n",
    "\n",
    "df_use['days'] = df_use['Tanggal'].index"
   ]
  },
  {
   "cell_type": "code",
   "execution_count": 8,
   "metadata": {
    "id": "ap-bQhAB0cpn"
   },
   "outputs": [
    {
     "data": {
      "text/html": [
       "<div>\n",
       "<style scoped>\n",
       "    .dataframe tbody tr th:only-of-type {\n",
       "        vertical-align: middle;\n",
       "    }\n",
       "\n",
       "    .dataframe tbody tr th {\n",
       "        vertical-align: top;\n",
       "    }\n",
       "\n",
       "    .dataframe thead th {\n",
       "        text-align: right;\n",
       "    }\n",
       "</style>\n",
       "<table border=\"1\" class=\"dataframe\">\n",
       "  <thead>\n",
       "    <tr style=\"text-align: right;\">\n",
       "      <th></th>\n",
       "      <th>Cases_norm</th>\n",
       "      <th>days</th>\n",
       "    </tr>\n",
       "  </thead>\n",
       "  <tbody>\n",
       "    <tr>\n",
       "      <th>0</th>\n",
       "      <td>10.120049</td>\n",
       "      <td>0</td>\n",
       "    </tr>\n",
       "    <tr>\n",
       "      <th>1</th>\n",
       "      <td>10.159292</td>\n",
       "      <td>1</td>\n",
       "    </tr>\n",
       "    <tr>\n",
       "      <th>2</th>\n",
       "      <td>10.236848</td>\n",
       "      <td>2</td>\n",
       "    </tr>\n",
       "    <tr>\n",
       "      <th>3</th>\n",
       "      <td>10.212185</td>\n",
       "      <td>3</td>\n",
       "    </tr>\n",
       "    <tr>\n",
       "      <th>4</th>\n",
       "      <td>10.300416</td>\n",
       "      <td>4</td>\n",
       "    </tr>\n",
       "  </tbody>\n",
       "</table>\n",
       "</div>"
      ],
      "text/plain": [
       "   Cases_norm  days\n",
       "0   10.120049     0\n",
       "1   10.159292     1\n",
       "2   10.236848     2\n",
       "3   10.212185     3\n",
       "4   10.300416     4"
      ]
     },
     "execution_count": 8,
     "metadata": {},
     "output_type": "execute_result"
    }
   ],
   "source": [
    "# Buat data frame baru yang berisikan kolom Cases_norm & days --> data frame ini yang digunakan untuk pemodelan\n",
    "df_fix = df_use[['Cases_norm','days']]\n",
    "df_fix.head()"
   ]
  },
  {
   "cell_type": "code",
   "execution_count": 9,
   "metadata": {
    "id": "EeD2Bpkf1ELi"
   },
   "outputs": [],
   "source": [
    "# Definisikan feature dan target ke dalam suatu variabel\n",
    "X = np.array(df_fix[['days']]).reshape(-1,1)\n",
    "y = np.array(df_fix['Cases_norm'])"
   ]
  },
  {
   "cell_type": "code",
   "execution_count": 10,
   "metadata": {
    "id": "2ZZ4h_dh2EsC"
   },
   "outputs": [
    {
     "name": "stdout",
     "output_type": "stream",
     "text": [
      "109 28\n"
     ]
    }
   ],
   "source": [
    "# Bagi menjadi data train dan data test dengan menggunakan train_test_split\n",
    "from sklearn.model_selection import train_test_split\n",
    "X_train, X_test, y_train, y_test = train_test_split(X, y, random_state=42, test_size = 0.2)\n",
    "print(X_train.size, X_test.size)"
   ]
  },
  {
   "cell_type": "code",
   "execution_count": 11,
   "metadata": {
    "id": "xZNB9cSR2OwH"
   },
   "outputs": [
    {
     "data": {
      "text/plain": [
       "LinearRegression()"
      ]
     },
     "execution_count": 11,
     "metadata": {},
     "output_type": "execute_result"
    }
   ],
   "source": [
    "# Dikarenakan kasus harian covid tidaklah selalu naik/turun secara linear maka kita harus membuatnya dalam bentuk polynomial\n",
    "\n",
    "from sklearn.preprocessing import PolynomialFeatures\n",
    "poly_reg = PolynomialFeatures(degree=2)\n",
    "X_poly = poly_reg.fit_transform(X_train)\n",
    "\n",
    "from sklearn.linear_model import LinearRegression\n",
    "model = LinearRegression()\n",
    "model.fit(X_poly,y_train)\n"
   ]
  },
  {
   "cell_type": "code",
   "execution_count": 12,
   "metadata": {
    "id": "y7sGfCql2wvZ"
   },
   "outputs": [
    {
     "name": "stdout",
     "output_type": "stream",
     "text": [
      "0.9555227204804164\n"
     ]
    }
   ],
   "source": [
    "poly_X_test = poly_reg.fit_transform(X_test)\n",
    "y_pred = model.predict(poly_X_test)\n",
    "\n",
    "# Mengecek score dari pemodelan machine learning yang telah dibuat dengan r2 score\n",
    "from sklearn import metrics\n",
    "r2 = metrics.r2_score(y_pred,y_test)\n",
    "print(r2)"
   ]
  },
  {
   "cell_type": "raw",
   "metadata": {},
   "source": [
    "Akurasi model yang dibuat sudah cukup bagus. Jika merubah polynomial degree menjadi 3, maka akurasi machine yang kita buat akan bertambah menjadi 98%. Namun menurut saya jika kita merubah degree menjadi 3 meskipun akuarsinya bertambah tetapi ada kemungkinan bahwa model yg dibuat menjadi overfit. Jadi dirasa pemodelan menggunakan degree = 2 sudah cukup baik."
   ]
  },
  {
   "cell_type": "code",
   "execution_count": 13,
   "metadata": {},
   "outputs": [],
   "source": [
    "# 15 NOVEMBER 2021 =  hari ke 137 setelah 1 Juli\n",
    "# 14 DESEMBER 2021 = hari ke 166 setelah 1 Juli \n",
    "\n",
    "# Melakukan prediksi kasus covid 15Nov - 14Des:\n",
    "predict_date = np.arange(137,167).reshape(-1,1)\n",
    "poly_predict_date = poly_reg.fit_transform(predict_date)\n",
    "y_predict_date = model.predict(poly_predict_date)"
   ]
  },
  {
   "cell_type": "code",
   "execution_count": 14,
   "metadata": {},
   "outputs": [],
   "source": [
    "'''Dikarenakan saat awal dilakukan normalisasi terhadap Kasus harian maka hasil prediksi juga masih dalam bentuk hasil log.\n",
    "Oleh sebab itu dilakukan anti normalisasi dengan cara np.exp untuk target yang telah dihasilkan'''\n",
    "\n",
    "y_inverse = np.exp(y_predict_date)\n",
    "y_inverse = np.ceil(y_inverse)\n",
    "y_inverse = y_inverse.astype(int)"
   ]
  },
  {
   "cell_type": "code",
   "execution_count": 15,
   "metadata": {},
   "outputs": [
    {
     "data": {
      "text/html": [
       "<div>\n",
       "<style scoped>\n",
       "    .dataframe tbody tr th:only-of-type {\n",
       "        vertical-align: middle;\n",
       "    }\n",
       "\n",
       "    .dataframe tbody tr th {\n",
       "        vertical-align: top;\n",
       "    }\n",
       "\n",
       "    .dataframe thead th {\n",
       "        text-align: right;\n",
       "    }\n",
       "</style>\n",
       "<table border=\"1\" class=\"dataframe\">\n",
       "  <thead>\n",
       "    <tr style=\"text-align: right;\">\n",
       "      <th></th>\n",
       "      <th>Hari ke -</th>\n",
       "      <th>Jumlah kasus harian</th>\n",
       "    </tr>\n",
       "  </thead>\n",
       "  <tbody>\n",
       "    <tr>\n",
       "      <th>0</th>\n",
       "      <td>137</td>\n",
       "      <td>206</td>\n",
       "    </tr>\n",
       "    <tr>\n",
       "      <th>1</th>\n",
       "      <td>138</td>\n",
       "      <td>194</td>\n",
       "    </tr>\n",
       "    <tr>\n",
       "      <th>2</th>\n",
       "      <td>139</td>\n",
       "      <td>183</td>\n",
       "    </tr>\n",
       "    <tr>\n",
       "      <th>3</th>\n",
       "      <td>140</td>\n",
       "      <td>173</td>\n",
       "    </tr>\n",
       "    <tr>\n",
       "      <th>4</th>\n",
       "      <td>141</td>\n",
       "      <td>163</td>\n",
       "    </tr>\n",
       "  </tbody>\n",
       "</table>\n",
       "</div>"
      ],
      "text/plain": [
       "   Hari ke -  Jumlah kasus harian\n",
       "0        137                  206\n",
       "1        138                  194\n",
       "2        139                  183\n",
       "3        140                  173\n",
       "4        141                  163"
      ]
     },
     "execution_count": 15,
     "metadata": {},
     "output_type": "execute_result"
    }
   ],
   "source": [
    "df_prediksi = pd.DataFrame({'Hari ke -':np.arange(137,167),\n",
    "                            'Jumlah kasus harian' : y_inverse})\n",
    "df_prediksi.head()"
   ]
  },
  {
   "cell_type": "code",
   "execution_count": 16,
   "metadata": {},
   "outputs": [
    {
     "data": {
      "image/png": "[encoded data removed]",
      "text/plain": [
       "<Figure size 864x576 with 1 Axes>"
      ]
     },
     "metadata": {
      "needs_background": "light"
     },
     "output_type": "display_data"
    }
   ],
   "source": [
    "plt.figure(figsize=(12,8))\n",
    "plt.scatter(predict_date,y_inverse)\n",
    "plt.title('Prediksi Kasus Harian Covid',fontsize = 16)\n",
    "plt.xlabel('Hari ke-x setelah 1 Juli 2021',fontsize=12)\n",
    "plt.ylabel('Jumlah Kasus Harian',fontsize=12)\n",
    "plt.show()"
   ]
  },
  {
   "cell_type": "markdown",
   "metadata": {},
   "source": [
    "Meskipun terlihat prediksi kasus harian covid 19 di Indonesia memiliki tren yang semakin hari semakin menurun, namun kita tetap harus waspada dan selalu menaati protokol kesehatan."
   ]
  }
 ],
 "metadata": {
  "colab": {
   "collapsed_sections": [],
   "provenance": []
  },
  "kernelspec": {
   "display_name": "Python 3 (ipykernel)",
   "language": "python",
   "name": "python3"
  },
  "language_info": {
   "codemirror_mode": {
    "name": "ipython",
    "version": 3
   },
   "file_extension": ".py",
   "mimetype": "text/x-python",
   "name": "python",
   "nbconvert_exporter": "python",
   "pygments_lexer": "ipython3",
   "version": "3.9.12"
  }
 },
 "nbformat": 4,
 "nbformat_minor": 1
}
